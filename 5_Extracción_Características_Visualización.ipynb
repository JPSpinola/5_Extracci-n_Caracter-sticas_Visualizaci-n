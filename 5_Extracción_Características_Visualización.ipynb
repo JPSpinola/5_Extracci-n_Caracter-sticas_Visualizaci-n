{
  "nbformat": 4,
  "nbformat_minor": 0,
  "metadata": {
    "colab": {
      "provenance": [],
      "authorship_tag": "ABX9TyOYzCPbLyNmnj6QbpDFJGKo",
      "include_colab_link": true
    },
    "kernelspec": {
      "name": "python3",
      "display_name": "Python 3"
    },
    "language_info": {
      "name": "python"
    }
  },
  "cells": [
    {
      "cell_type": "markdown",
      "metadata": {
        "id": "view-in-github",
        "colab_type": "text"
      },
      "source": [
        "<a href=\"https://colab.research.google.com/github/JPSpinola/5_Extracci-n_Caracter-sticas_Visualizaci-n/blob/main/5_Extracci%C3%B3n_Caracter%C3%ADsticas_Visualizaci%C3%B3n.ipynb\" target=\"_parent\"><img src=\"https://colab.research.google.com/assets/colab-badge.svg\" alt=\"Open In Colab\"/></a>"
      ]
    },
    {
      "cell_type": "code",
      "execution_count": null,
      "metadata": {
        "id": "jrQRwOnKwVOl"
      },
      "outputs": [],
      "source": [
        "#Instalamos librería para análisis de variables categóricas\n",
        "%pip install funpymodeling"
      ]
    },
    {
      "cell_type": "code",
      "source": [
        "#Importamos las librerias pandas, numpy y matplotlib respectivamente\n",
        "import pandas as pd\n",
        "import numpy as np\n",
        "import matplotlib.pyplot as plt\n",
        "from funpymodeling.exploratory import freq_tbl"
      ],
      "metadata": {
        "id": "gXPo72GjwyL_"
      },
      "execution_count": null,
      "outputs": []
    },
    {
      "cell_type": "code",
      "source": [
        "#Cargar archivo csv desde equipo\n",
        "from google.colab import files\n",
        "files.upload()"
      ],
      "metadata": {
        "id": "6RgQeZrhyoGm"
      },
      "execution_count": null,
      "outputs": []
    },
    {
      "cell_type": "code",
      "source": [
        "#Carga desde un archivo .xlsx sin indice\n",
        "Micro_Retailer= pd.read_excel('microretailer_mit_lift_lab.xlsx')"
      ],
      "metadata": {
        "id": "d694BN3Lz8JE"
      },
      "execution_count": null,
      "outputs": []
    },
    {
      "cell_type": "code",
      "source": [
        "#Verificamos información del DataFrame\n",
        "Micro_Retailer.info()"
      ],
      "metadata": {
        "id": "dZH7Gm0w0SI4"
      },
      "execution_count": null,
      "outputs": []
    },
    {
      "cell_type": "code",
      "source": [
        "#Imprimo los primeros 5 registros del DataFrame\n",
        "Micro_Retailer.head()"
      ],
      "metadata": {
        "id": "eifMzUWu0uu7"
      },
      "execution_count": null,
      "outputs": []
    },
    {
      "cell_type": "code",
      "source": [
        "#Obtengo un análisis univariado de las variables categóricas\n",
        "freq_tbl(Micro_Retailer)"
      ],
      "metadata": {
        "id": "oqivubDL08S0"
      },
      "execution_count": null,
      "outputs": []
    },
    {
      "cell_type": "code",
      "source": [
        "#Obtengo un análisis multivariado de una variable categórica en específico\n",
        "table1= freq_tbl(Micro_Retailer['214_customer_relationship_tools'])\n",
        "table1"
      ],
      "metadata": {
        "id": "G78LL4vQ5RkA"
      },
      "execution_count": null,
      "outputs": []
    },
    {
      "cell_type": "code",
      "source": [
        "#Obtengo un filtro de los valores más relevantes de las variables seleccionadas\n",
        "Filtro= table1[table1['frequency']>1]\n",
        "Filtro"
      ],
      "metadata": {
        "id": "xKA5H3XZ6dh8"
      },
      "execution_count": null,
      "outputs": []
    },
    {
      "cell_type": "code",
      "source": [
        "#Ajusto el indice de mi DataFrame\n",
        "Filtro_index= Filtro.set_index('214_customer_relationship_tools')\n",
        "Filtro_index"
      ],
      "metadata": {
        "id": "Mw7f4Kfb7fo4"
      },
      "execution_count": null,
      "outputs": []
    },
    {
      "cell_type": "code",
      "source": [
        "#Realizamos gráfico de barras del DataFrame filtrado\n",
        "Filtro_index.plot(kind = 'bar', width=1, figsize=(10,4))\n",
        "plt.title('Herramientas de relación con los clientes')\n",
        "plt.xlabel('Tipo de Herramienta')\n",
        "plt.ylabel('Frecuencia')"
      ],
      "metadata": {
        "id": "Roh0gU558Qnn"
      },
      "execution_count": null,
      "outputs": []
    },
    {
      "cell_type": "code",
      "source": [
        "#Realizamos gráfico de dispersión del DataFrame filtrado\n",
        "Filtro_index.plot(\"frequency\", \"cumulative_perc\", kind=\"scatter\")"
      ],
      "metadata": {
        "id": "fS-hZNp7-OQ7"
      },
      "execution_count": null,
      "outputs": []
    },
    {
      "cell_type": "code",
      "source": [
        "#Realizamos gráfico de área del DataFrame filtrado\n",
        "Filtro_index.plot(kind= \"area\", figsize=(10,4), alpha = 0.8) # alpha = transparencia del gráfico"
      ],
      "metadata": {
        "id": "cIVe17Xj-wj3"
      },
      "execution_count": null,
      "outputs": []
    },
    {
      "cell_type": "code",
      "source": [
        "#Realizamos gráfico de pastel del DataFrame filtrado\n",
        "Filtro_index[\"frequency\"].plot(kind='pie', figsize=(10,5), shadow=True, autopct=\"%0.1f %%\") "
      ],
      "metadata": {
        "id": "Ds9zqAm3_VBo"
      },
      "execution_count": null,
      "outputs": []
    },
    {
      "cell_type": "code",
      "source": [
        "#Realizamos gráfico hexagonal del DataFrame filtrado, alternativo del scatter plot\n",
        "Filtro_index.plot.hexbin(\"frequency\",\"cumulative_perc\", figsize=(10,5))"
      ],
      "metadata": {
        "id": "29oXFgH7Afjy"
      },
      "execution_count": null,
      "outputs": []
    }
  ]
}